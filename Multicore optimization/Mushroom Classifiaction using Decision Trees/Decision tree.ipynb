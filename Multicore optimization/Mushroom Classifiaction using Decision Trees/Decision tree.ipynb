{
 "cells": [
  {
   "cell_type": "code",
   "execution_count": 74,
   "metadata": {},
   "outputs": [],
   "source": [
    "import numpy as np\n",
    "import pandas as pd\n",
    "\n",
    "from pprint import pprint"
   ]
  },
  {
   "cell_type": "code",
   "execution_count": 75,
   "metadata": {},
   "outputs": [],
   "source": [
    "#df = pd.read_csv(\"mushrooms_train_updated.csv\")\n",
    "#df = df.drop(\"stalk-root\", axis=1)\n",
    "\n",
    "#dt = pd.read_csv(\"mushrooms_test_updated.csv\")\n",
    "#df = df.drop(\"stalk-root\", axis=1)\n",
    "#l=[1,2,3,4,5,6,7,8,9,10,11,12,13,14,15,16,17,18,19,20,21,0] # index order\n",
    "#dt=dt[[dt.columns[i] for i in l]]\n",
    "#dt= dt.rename(columns={\"class\":\"label\"})\n",
    "\n",
    "\n",
    "#data= df.values"
   ]
  },
  {
   "cell_type": "code",
   "execution_count": 76,
   "metadata": {
    "scrolled": true
   },
   "outputs": [],
   "source": [
    "#df.head()"
   ]
  },
  {
   "cell_type": "code",
   "execution_count": 77,
   "metadata": {},
   "outputs": [],
   "source": [
    "#df.info()\n",
    "#len(\"mushrooms_test_updated.csv\")"
   ]
  },
  {
   "cell_type": "code",
   "execution_count": 78,
   "metadata": {},
   "outputs": [],
   "source": [
    "\n",
    "def puritychk(data):\n",
    "    unique_cls = np.unique(data[:,-1])\n",
    "    if len(unique_cls) == 1:\n",
    "        return True\n",
    "    else:\n",
    "        return False\n",
    "    \n",
    "#puritychk(df.values)"
   ]
  },
  {
   "cell_type": "code",
   "execution_count": 79,
   "metadata": {},
   "outputs": [],
   "source": [
    "def classify_data(data):\n",
    "\n",
    "    unique_cls, counts_unique = np.unique(data[:,-1],return_counts=True)\n",
    "    index = counts_unique.argmax()\n",
    "    classification = unique_cls[index]\n",
    "    \n",
    "    return classification"
   ]
  },
  {
   "cell_type": "code",
   "execution_count": 80,
   "metadata": {},
   "outputs": [],
   "source": [
    "def split(data):\n",
    "    \n",
    "    splits={}\n",
    "    r, cols = data.shape\n",
    "    for i in range(cols -1):\n",
    "        splits[i]=[]\n",
    "        values= data[:,i]\n",
    "        unique_values = np.unique(values)\n",
    "        \n",
    "        for index in range(len(unique_values)):\n",
    "            splits[i].append(unique_values[index])\n",
    "  \n",
    "    return splits"
   ]
  },
  {
   "cell_type": "code",
   "execution_count": 81,
   "metadata": {},
   "outputs": [],
   "source": [
    "#mushroom_training.values\n",
    "#splited_data=split(data)\n",
    "#splited_data\n",
    "\n"
   ]
  },
  {
   "cell_type": "code",
   "execution_count": 82,
   "metadata": {},
   "outputs": [],
   "source": [
    "def split_data(data,split_column,split_value):\n",
    "    \n",
    "    split_column_values = data[:,split_column]\n",
    "    \n",
    "    data_below = data[split_column_values == split_value]\n",
    "    data_above = data[split_column_values != split_value]\n",
    "    \n",
    "    return data_below, data_above\n",
    "            \n"
   ]
  },
  {
   "cell_type": "code",
   "execution_count": 83,
   "metadata": {},
   "outputs": [],
   "source": [
    "#data_below, data_above = split_data(data, 1, 'f')\n",
    "#data_above\n"
   ]
  },
  {
   "cell_type": "code",
   "execution_count": 84,
   "metadata": {},
   "outputs": [],
   "source": [
    "def entropy_calc(data):\n",
    "    label_column= data[:,-1]\n",
    "    r,counts = np.unique(label_column,return_counts=True)\n",
    "    total = counts.sum()\n",
    "    p = counts/total\n",
    "    entropy = sum(-p * np.log2(p))\n",
    "    return entropy"
   ]
  },
  {
   "cell_type": "code",
   "execution_count": 85,
   "metadata": {},
   "outputs": [],
   "source": [
    "#e = entropy_calc(data_below)\n",
    "#e"
   ]
  },
  {
   "cell_type": "code",
   "execution_count": 86,
   "metadata": {},
   "outputs": [],
   "source": [
    "def entropy_overall(data_below, data_above):\n",
    "    total_pts = len(data_below) + len(data_above)\n",
    "    \n",
    "    p_data_below = len(data_below)/total_pts\n",
    "    p_data_above = len(data_above)/total_pts\n",
    "\n",
    "    overall_entropy = (p_data_below * entropy_calc(data_below) + p_data_above * entropy_calc(data_above))\n",
    "    return overall_entropy"
   ]
  },
  {
   "cell_type": "code",
   "execution_count": 87,
   "metadata": {},
   "outputs": [],
   "source": [
    "#entropy_overall(data_below, data_above)\n"
   ]
  },
  {
   "cell_type": "code",
   "execution_count": 88,
   "metadata": {},
   "outputs": [],
   "source": [
    "#splited_data"
   ]
  },
  {
   "cell_type": "code",
   "execution_count": 89,
   "metadata": {},
   "outputs": [],
   "source": [
    "def best_split(data, possible_splits):\n",
    "    overall_entropy=999\n",
    "    \n",
    "    for i in possible_splits:\n",
    "        for values in possible_splits[i]:\n",
    "            data_below , data_above = split_data(data, split_column=i, split_value=values)\n",
    "            current_overall_entropy=entropy_overall(data_below,data_above)\n",
    "\n",
    "            if current_overall_entropy < overall_entropy:\n",
    "                overall_entropy = current_overall_entropy\n",
    "                best_split_column= i\n",
    "                best_split_value= values\n",
    "    return best_split_column, best_split_value"
   ]
  },
  {
   "cell_type": "code",
   "execution_count": 90,
   "metadata": {},
   "outputs": [],
   "source": [
    "#best_split(data,split)"
   ]
  },
  {
   "cell_type": "code",
   "execution_count": 91,
   "metadata": {},
   "outputs": [],
   "source": [
    "def decision_tree(df, counter=0):\n",
    "    \n",
    "    if counter == 0:\n",
    "        global header\n",
    "        header = df.columns \n",
    "        data = df.values         #if its the first instance of running the program the data frame(df) is converted to a numpy 2d array of data\n",
    "    else:\n",
    "        data = df\n",
    "        \n",
    "    if puritychk(data):           #checking for purity (i.e) the the tree has reached to its bottom most node\n",
    "        classification = classify_data(data)\n",
    "        return classification\n",
    "    \n",
    "    else:                         # recursive calling to form the tree\n",
    "        counter+=1\n",
    "        \n",
    "        possible_splits = split(data)\n",
    "        split_column , split_value = best_split(data, possible_splits)\n",
    "        data_below, data_above = split_data(data,split_column,split_value)\n",
    "        \n",
    "        #initialising the sub tree\n",
    "        question=\"{} <= {}\". format(header[split_column],split_value)\n",
    "        subtree = {question:[]}\n",
    "        \n",
    "        #recursion\n",
    "        left_side  = decision_tree(data_below, counter)\n",
    "        right_side = decision_tree(data_above, counter)\n",
    "        \n",
    "        if left_side == right_side:\n",
    "            subtree = left_side\n",
    "        else:\n",
    "            subtree[question].append(left_side)\n",
    "            subtree[question].append(right_side)\n",
    "        \n",
    "        #print(subtree)\n",
    "        \n",
    "        return subtree\n",
    "    \n",
    "    "
   ]
  },
  {
   "cell_type": "code",
   "execution_count": 92,
   "metadata": {},
   "outputs": [],
   "source": [
    "#mushroom_training= pd.read_csv(\"mushrooms_train_updated.csv\")\n",
    "#l=[1,2,3,4,5,6,7,8,9,10,11,12,13,14,15,16,17,18,19,20,21,0] # index order\n",
    "#mushroom_training= mushroom_training[[mushroom_training.columns[i] for i in l]]\n",
    "#mushroom_training= mushroom_training.rename(columns={\"class\":\"label\"})\n",
    "\n",
    "#tree= decision_tree(mushroom_training)\n",
    "#pprint(tree)"
   ]
  },
  {
   "cell_type": "code",
   "execution_count": 93,
   "metadata": {
    "scrolled": true
   },
   "outputs": [],
   "source": [
    "#header = mushroom_training.columns\n",
    "#header\n"
   ]
  },
  {
   "cell_type": "code",
   "execution_count": 94,
   "metadata": {},
   "outputs": [],
   "source": [
    "#mushroom_testing = pd.read_csv(\"mushrooms_test_updated.csv\")\n",
    "#l=[1,2,3,4,5,6,7,8,9,10,11,12,13,14,15,16,17,18,19,20,21,0] # index order\n",
    "#mushroom_testing= mushroom_testing[[mushroom_testing.columns[i] for i in l]]\n",
    "#mushroom_testing= mushroom_testing.rename(columns={\"class\":\"label\"})\n",
    "\n",
    "#example = mushroom_testing.iloc[0]\n",
    "#question=list(tree.keys())[0]\n",
    "#question.split()\n"
   ]
  },
  {
   "cell_type": "code",
   "execution_count": 95,
   "metadata": {},
   "outputs": [],
   "source": [
    "def classify(dt,tree):\n",
    "    question=list(tree.keys())[0]\n",
    "    feature_name,_,value = question.split()\n",
    "\n",
    "    if dt[feature_name] == value:\n",
    "        answer = tree[question][0]\n",
    "    else:\n",
    "        answer = tree[question][1]\n",
    "\n",
    "    if not isinstance(answer,dict):\n",
    "        return answer\n",
    "    else:\n",
    "        return classify(dt, answer)\n"
   ]
  },
  {
   "cell_type": "code",
   "execution_count": 96,
   "metadata": {},
   "outputs": [],
   "source": [
    "#    classify(example,tree)\n"
   ]
  },
  {
   "cell_type": "code",
   "execution_count": 100,
   "metadata": {},
   "outputs": [],
   "source": [
    "def accuracy(dt, tree):\n",
    "    \n",
    "    dt[\"classification\"] = dt.apply(classify , axis=1, args=(tree,))\n",
    "    dt[\"classification_correct\"] = dt.classification == dt.label\n",
    "    \n",
    "    accuracy = dt.classification_correct.mean()\n",
    "    \n",
    "    return accuracy , dt\n"
   ]
  },
  {
   "cell_type": "code",
   "execution_count": 121,
   "metadata": {},
   "outputs": [],
   "source": [
    "def conf_mat(dt):\n",
    "    c1=0\n",
    "    c2=0\n",
    "    c3=0\n",
    "    c4=0\n",
    "    label = dt.label\n",
    "    classification = dt.classification\n",
    "    for i in range(len(dt)):\n",
    "        if classification[i] == label[i]:\n",
    "            if label[i] == 'p':\n",
    "                c4+=1\n",
    "            else:\n",
    "                c1+=1\n",
    "        else:\n",
    "            if classification[i] == 'p':\n",
    "                c2+=1\n",
    "            else:\n",
    "                c3+=1\n",
    "    array=[[c1,c2], [c3,c4]]\n",
    "    return array\n"
   ]
  },
  {
   "cell_type": "code",
   "execution_count": 111,
   "metadata": {},
   "outputs": [
    {
     "data": {
      "text/plain": [
       "'p'"
      ]
     },
     "execution_count": 111,
     "metadata": {},
     "output_type": "execute_result"
    }
   ],
   "source": [
    "\n",
    "label[0]\n"
   ]
  },
  {
   "cell_type": "code",
   "execution_count": 122,
   "metadata": {},
   "outputs": [
    {
     "name": "stdout",
     "output_type": "stream",
     "text": [
      "{'odor <= n': [{'spore-print-color <= r': ['p',\n",
      "                                           {'cap-color <= y': ['p',\n",
      "                                                               {'cap-surface <= g': ['p',\n",
      "                                                                                     {'stalk-color-below-ring <= y': ['p',\n",
      "                                                                                                                      'e']}]}]}]},\n",
      "               {'bruises <= f': ['p',\n",
      "                                 {'stalk-root <= c': ['e',\n",
      "                                                      {'stalk-root <= r': ['e',\n",
      "                                                                           {'gill-spacing <= c': ['p',\n",
      "                                                                                                  'e']}]}]}]}]}\n",
      "1.0\n",
      "[[1257, 0], [0, 1181]]\n"
     ]
    }
   ],
   "source": [
    "mushroom_testing = pd.read_csv(\"mushrooms_test_updated.csv\")\n",
    "l=[1,2,3,4,5,6,7,8,9,10,11,12,13,14,15,16,17,18,19,20,21,0] # index order\n",
    "mushroom_testing= mushroom_testing[[mushroom_testing.columns[i] for i in l]]\n",
    "mushroom_testing= mushroom_testing.rename(columns={\"class\":\"label\"})\n",
    "\n",
    "mushroom_training = pd.read_csv(\"mushrooms_test_updated.csv\")\n",
    "l=[1,2,3,4,5,6,7,8,9,10,11,12,13,14,15,16,17,18,19,20,21,0] # index order\n",
    "mushroom_training = mushroom_training[[mushroom_training.columns[i] for i in l]]\n",
    "mushroom_training = mushroom_training.rename(columns={\"class\":\"label\"})\n",
    "\n",
    "tree = decision_tree(mushroom_training)\n",
    "accuracy1, updated_test_data = accuracy(mushroom_testing, tree)\n",
    "confusion_matrix = conf_mat(updated_test_data)\n",
    "\n",
    "pprint(tree)\n",
    "print(accuracy1)\n",
    "print(confusion_matrix)"
   ]
  },
  {
   "cell_type": "code",
   "execution_count": null,
   "metadata": {},
   "outputs": [],
   "source": []
  }
 ],
 "metadata": {
  "kernelspec": {
   "display_name": "Python 3",
   "language": "python",
   "name": "python3"
  },
  "language_info": {
   "codemirror_mode": {
    "name": "ipython",
    "version": 3
   },
   "file_extension": ".py",
   "mimetype": "text/x-python",
   "name": "python",
   "nbconvert_exporter": "python",
   "pygments_lexer": "ipython3",
   "version": "3.7.3"
  }
 },
 "nbformat": 4,
 "nbformat_minor": 2
}
