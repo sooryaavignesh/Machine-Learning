{
  "nbformat": 4,
  "nbformat_minor": 0,
  "metadata": {
    "colab": {
      "name": "q3_561_mnist_digits.ipynb",
      "provenance": [],
      "collapsed_sections": []
    },
    "kernelspec": {
      "name": "python3",
      "display_name": "Python 3"
    },
    "language_info": {
      "codemirror_mode": {
        "name": "ipython",
        "version": 3
      },
      "file_extension": ".py",
      "mimetype": "text/x-python",
      "name": "python",
      "nbconvert_exporter": "python",
      "pygments_lexer": "ipython3",
      "version": "3.6.8"
    },
    "accelerator": "GPU"
  },
  "cells": [
    {
      "cell_type": "code",
      "metadata": {
        "colab_type": "code",
        "id": "lzc6H1emF1-x",
        "colab": {}
      },
      "source": [
        "import matplotlib.pyplot as plt\n",
        "from IPython.display import clear_output\n",
        "import keras\n",
        "from sklearn.model_selection import train_test_split as train_valid_split\n",
        "import numpy as np\n",
        "from keras.models import load_model\n",
        "# plt.style.use('dark_background') # incase you are using jupyter dark theme, comment otherwise\n",
        "np.random.seed(1)"
      ],
      "execution_count": 0,
      "outputs": []
    },
    {
      "cell_type": "code",
      "metadata": {
        "colab_type": "code",
        "id": "e2B7u4UUF1-0",
        "colab": {}
      },
      "source": [
        "# usefull classes\n",
        "class PlotLearning(keras.callbacks.Callback):\n",
        "    \"\"\"\n",
        "    Inherits the Callback class\n",
        "    A class inheriting Callback is expected to have the methods on_train_begin and,\n",
        "    on_epoch_end. These methods are called in the backend.\n",
        "    \"\"\"\n",
        "    def on_train_begin(self, logs={}):\n",
        "        self.i = 0\n",
        "        self.x = []\n",
        "        self.losses = []\n",
        "        self.val_losses = []\n",
        "        self.acc = []\n",
        "        self.val_acc = []\n",
        "        self.fig = plt.figure()\n",
        "\n",
        "        self.logs = []\n",
        "\n",
        "    def on_epoch_end(self, epoch, logs={}):\n",
        "        \n",
        "        self.logs.append(logs)\n",
        "        self.x.append(self.i)\n",
        "        \n",
        "        self.losses.append(logs.get('loss'))\n",
        "        self.val_losses.append(logs.get('val_loss'))\n",
        "        self.acc.append(logs.get('acc'))\n",
        "        self.val_acc.append(logs.get('val_acc'))\n",
        "        self.i += 1\n",
        "        f, (ax1, ax2) = plt.subplots(1, 2 , figsize=(16, 8))\n",
        "        \n",
        "        clear_output(wait=True)\n",
        "        \n",
        "        # loss plot\n",
        "        ax1.plot(self.x, self.losses, label=\"loss\")\n",
        "        ax1.plot(self.x, self.val_losses, label=\"val_loss\")\n",
        "        ax1.set_xlabel(\"epochs\")\n",
        "        ax1.set_ylabel(\"loss\")\n",
        "        ax1.legend()\n",
        "        \n",
        "        ax2.plot(self.x, self.acc, label=\"acc\")\n",
        "        ax2.plot(self.x, self.val_acc, label=\"val_acc\")\n",
        "        ax1.set_xlabel(\"epochs\")\n",
        "        ax1.set_ylabel(\"loss\")\n",
        "        ax2.legend()\n",
        "        \n",
        "        plt.show()\n",
        "        \n",
        "        \n",
        "class CustomEarlyStop(keras.callbacks.Callback):\n",
        "    \"\"\"\n",
        "    Inherits the Callback class\n",
        "    A class inheriting Callback is expected to have the methods on_train_begin and,\n",
        "    on_epoch_end. These methods are called in the backend.\n",
        "    \"\"\"\n",
        "    def __init__(self, monitor='val_acc', value=0.9900):\n",
        "        self.monitor = monitor\n",
        "        self.value = value\n",
        "\n",
        "    def on_epoch_end(self, epoch, logs={}):\n",
        "        \n",
        "        curr_value = logs.get(self.monitor)\n",
        "        \n",
        "        if curr_value >= self.value:\n",
        "            print(f\"Congratulations! You reached the target {self.monitor} of {self.value}\")\n",
        "            self.model.stop_training = True"
      ],
      "execution_count": 0,
      "outputs": []
    },
    {
      "cell_type": "code",
      "metadata": {
        "colab_type": "code",
        "id": "ntlNYi50F1-3",
        "colab": {}
      },
      "source": [
        "# load the dataset\n",
        "mnist = keras.datasets.mnist\n",
        "(x_train, y_train), (x_test, y_test) = mnist.load_data()\n",
        "\n",
        "x_train, x_valid, y_train, y_valid  = train_valid_split(x_train, y_train, \n",
        "                                                        train_size=0.9, shuffle=True, \n",
        "                                                        random_state=42)"
      ],
      "execution_count": 0,
      "outputs": []
    },
    {
      "cell_type": "code",
      "metadata": {
        "colab_type": "code",
        "id": "HcoVoHsWF1-6",
        "outputId": "cb87f2bd-22d2-49e1-d4f0-2291f953b199",
        "colab": {
          "base_uri": "https://localhost:8080/",
          "height": 282
        }
      },
      "source": [
        "# show a random image from the training set\n",
        "plt.imshow(x_train[np.random.randint(0, x_train.shape[0]), :, :], cmap=\"gray_r\")"
      ],
      "execution_count": 26,
      "outputs": [
        {
          "output_type": "execute_result",
          "data": {
            "text/plain": [
              "<matplotlib.image.AxesImage at 0x7f4955d50588>"
            ]
          },
          "metadata": {
            "tags": []
          },
          "execution_count": 26
        },
        {
          "output_type": "display_data",
          "data": {
            "image/png": "[encoded data removed]",
            "text/plain": [
              "<Figure size 432x288 with 1 Axes>"
            ]
          },
          "metadata": {
            "tags": []
          }
        }
      ]
    },
    {
      "cell_type": "code",
      "metadata": {
        "colab_type": "code",
        "id": "ByXubw8YF1--",
        "colab": {}
      },
      "source": [
        "# normalize the data\n",
        "x_train, x_test, x_valid = x_train/255.0, x_test/255.0, x_valid/255.0"
      ],
      "execution_count": 0,
      "outputs": []
    },
    {
      "cell_type": "code",
      "metadata": {
        "colab_type": "code",
        "id": "eAMvSwIEF1_B",
        "colab": {}
      },
      "source": [
        "def generate_model_base():\n",
        "    \"\"\"\n",
        "    returns: a model object desccribed below\n",
        "    \"\"\"\n",
        "    return keras.models.Sequential([\n",
        "        keras.layers.Reshape(target_shape=(28, 28, 1)),\n",
        "       \n",
        "        # TODO: modify this function\n",
        "        keras.layers.Conv2D(kernel_size=3, filters=12,activation='relu', padding='valid'),\n",
        "        #keras.layers.BatchNormalization(center=True, scale=False),\n",
        "        keras.layers.Dropout(.25),\n",
        "        \n",
        "    \n",
        "        keras.layers.Conv2D(kernel_size=3, filters=24, activation='relu', padding='valid',strides=2),\n",
        "        #keras.layers.BatchNormalization(center=True, scale=False),\n",
        "        #keras.layers.Activation('relu'),\n",
        "        keras.layers.Dropout(.25),\n",
        "    \n",
        "        keras.layers.Conv2D(kernel_size=3, filters=32, activation='relu', padding='valid', strides=2),\n",
        "        #keras.layers.BatchNormalization(center=True, scale=False),\n",
        "        #keras.layers.Activation('relu'),\n",
        "        keras.layers.Dropout(.25),\n",
        "        \n",
        "        \n",
        "        keras.layers.Flatten(),\n",
        "        keras.layers.Dense(200, activation='relu'),\n",
        "        #keras.layers.BatchNormalization(center=True, scale=False),\n",
        "        #keras.layers.Activation('relu'),\n",
        "        keras.layers.Dense(10, activation='softmax')\n",
        "    ])\n",
        "\n",
        "def compile_model(m):\n",
        "    \"\"\"\n",
        "    compile model with specific optimizer and loss funtion\n",
        "    m: model object\n",
        "    \"\"\"\n",
        "    m.compile(\n",
        "        optimizer=keras.optimizers.Adam(lr=0.001),\n",
        "        loss='categorical_crossentropy', # expects targets to be hot-encoded\n",
        "        metrics=['accuracy']\n",
        "    )\n",
        "    return m"
      ],
      "execution_count": 0,
      "outputs": []
    },
    {
      "cell_type": "code",
      "metadata": {
        "colab_type": "code",
        "id": "fEG-VcECF1_D",
        "colab": {}
      },
      "source": [
        "keras.backend.clear_session() # do this everytime before creating a new model\n",
        "model = generate_model_base()\n",
        "model = compile_model(model)"
      ],
      "execution_count": 0,
      "outputs": []
    },
    {
      "cell_type": "code",
      "metadata": {
        "colab_type": "code",
        "id": "GJLu-2ciF1_E",
        "outputId": "11700fb8-cc60-4a2f-b292-8f564dc30efa",
        "colab": {
          "base_uri": "https://localhost:8080/",
          "height": 34
        }
      },
      "source": [
        "# write the YAML config of the above model to a file\n",
        "open('mnist_cnn_model.yaml', 'w').write(model.to_yaml())\n",
        "#print(model.to_yaml())"
      ],
      "execution_count": 30,
      "outputs": [
        {
          "output_type": "execute_result",
          "data": {
            "text/plain": [
              "3882"
            ]
          },
          "metadata": {
            "tags": []
          },
          "execution_count": 30
        }
      ]
    },
    {
      "cell_type": "code",
      "metadata": {
        "colab_type": "code",
        "id": "uinw19yHF1_G",
        "outputId": "f654c990-89de-4f0a-de80-95aaa32a0a53",
        "scrolled": false,
        "colab": {
          "base_uri": "https://localhost:8080/",
          "height": 514
        }
      },
      "source": [
        "hist = model.fit(\n",
        "    x_train, keras.utils.to_categorical(y_train),\n",
        "    validation_data=(x_valid, keras.utils.to_categorical(y_valid)),\n",
        "    epochs=200,\n",
        "    verbose=1,\n",
        "    batch_size=128,\n",
        "    callbacks=[PlotLearning(), CustomEarlyStop()]\n",
        ")"
      ],
      "execution_count": 31,
      "outputs": [
        {
          "output_type": "display_data",
          "data": {
            "image/png": "[encoded data removed]",
            "text/plain": [
              "<Figure size 1152x576 with 2 Axes>"
            ]
          },
          "metadata": {
            "tags": []
          }
        },
        {
          "output_type": "stream",
          "text": [
            "Congratulations! You reached the target val_acc of 0.99\n"
          ],
          "name": "stdout"
        }
      ]
    },
    {
      "cell_type": "code",
      "metadata": {
        "id": "DFLYZ_R3alHb",
        "colab_type": "code",
        "colab": {
          "base_uri": "https://localhost:8080/",
          "height": 493
        },
        "outputId": "dea25233-c6ab-4f00-a157-bb56f5d78d04"
      },
      "source": [
        "model.build(input_shape=(None,28,28,1))\n",
        "model.summary()"
      ],
      "execution_count": 32,
      "outputs": [
        {
          "output_type": "stream",
          "text": [
            "Model: \"sequential_1\"\n",
            "_________________________________________________________________\n",
            "Layer (type)                 Output Shape              Param #   \n",
            "=================================================================\n",
            "reshape_1 (Reshape)          (None, 28, 28, 1)         0         \n",
            "_________________________________________________________________\n",
            "conv2d_1 (Conv2D)            (None, 26, 26, 12)        120       \n",
            "_________________________________________________________________\n",
            "dropout_1 (Dropout)          (None, 26, 26, 12)        0         \n",
            "_________________________________________________________________\n",
            "conv2d_2 (Conv2D)            (None, 12, 12, 24)        2616      \n",
            "_________________________________________________________________\n",
            "dropout_2 (Dropout)          (None, 12, 12, 24)        0         \n",
            "_________________________________________________________________\n",
            "conv2d_3 (Conv2D)            (None, 5, 5, 32)          6944      \n",
            "_________________________________________________________________\n",
            "dropout_3 (Dropout)          (None, 5, 5, 32)          0         \n",
            "_________________________________________________________________\n",
            "flatten_1 (Flatten)          (None, 800)               0         \n",
            "_________________________________________________________________\n",
            "dense_1 (Dense)              (None, 200)               160200    \n",
            "_________________________________________________________________\n",
            "dense_2 (Dense)              (None, 10)                2010      \n",
            "=================================================================\n",
            "Total params: 171,890\n",
            "Trainable params: 171,890\n",
            "Non-trainable params: 0\n",
            "_________________________________________________________________\n"
          ],
          "name": "stdout"
        }
      ]
    },
    {
      "cell_type": "code",
      "metadata": {
        "colab_type": "code",
        "id": "_2uXUl8GF1_I",
        "colab": {
          "base_uri": "https://localhost:8080/",
          "height": 34
        },
        "outputId": "42e07b8b-fb03-4b24-e7c5-9bc7e7ef912a"
      },
      "source": [
        "# evaluate model\n",
        "metrics = model.evaluate(x_test, keras.utils.to_categorical(y_test), verbose=0)\n",
        "print(f'loss: {metrics[0]:.2f}, accuracy: {metrics[1] * 100:.2f}')"
      ],
      "execution_count": 33,
      "outputs": [
        {
          "output_type": "stream",
          "text": [
            "loss: 0.03, accuracy: 98.93\n"
          ],
          "name": "stdout"
        }
      ]
    },
    {
      "cell_type": "code",
      "metadata": {
        "colab_type": "code",
        "id": "gNtNv121F1_J",
        "colab": {}
      },
      "source": [
        "# save model\n",
        "model.save('mnist_digits_base.h5')"
      ],
      "execution_count": 0,
      "outputs": []
    },
    {
      "cell_type": "code",
      "metadata": {
        "colab_type": "code",
        "id": "vbxsXpn5xfCZ",
        "colab": {}
      },
      "source": [
        "# use this block of code to download h5 and tflite and tflite quant files from google colab to your local machine\n",
        "# NOTE: YOU WILL NEED TO USE GOOGLE CHROME TO USE THIS FEATURE\n",
        "# YOU WILL NEED TO ENABLE 3RD PARTY COOKIES FROM GOOGLE COLAB\n",
        "# HERE ARE THE INSTRUCTIONS FOR THAT: https://stackoverflow.com/questions/53581023/google-colab-file-download-failed-to-fetch-error\n",
        "# YOU NEED TO CLOSE THIS BROWSER AND REOPEN FOR THE CHANGE TO TAKE EFFECT\n",
        "# YOU MAY NEED TO RUN THIS CELL TWO TIMES FOR IT TO WORK\n",
        "from google.colab import files\n",
        "files.download('mnist_digits_base.h5') #  "
      ],
      "execution_count": 0,
      "outputs": []
    },
    {
      "cell_type": "code",
      "metadata": {
        "colab_type": "code",
        "id": "x2c6UNCby2ZV",
        "colab": {}
      },
      "source": [
        ""
      ],
      "execution_count": 0,
      "outputs": []
    }
  ]
}