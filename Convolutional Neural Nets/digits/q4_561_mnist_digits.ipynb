{
  "nbformat": 4,
  "nbformat_minor": 0,
  "metadata": {
    "colab": {
      "name": "q4_561_mnist_digits.ipynb",
      "provenance": [],
      "collapsed_sections": []
    },
    "kernelspec": {
      "name": "python3",
      "display_name": "Python 3"
    },
    "language_info": {
      "codemirror_mode": {
        "name": "ipython",
        "version": 3
      },
      "file_extension": ".py",
      "mimetype": "text/x-python",
      "name": "python",
      "nbconvert_exporter": "python",
      "pygments_lexer": "ipython3",
      "version": "3.6.8"
    },
    "accelerator": "GPU"
  },
  "cells": [
    {
      "cell_type": "code",
      "metadata": {
        "colab_type": "code",
        "id": "jF5gmAQdF1-q",
        "outputId": "1d820367-2955-4be0-b0fd-030b48cc4d5c",
        "colab": {
          "base_uri": "https://localhost:8080/",
          "height": 476
        }
      },
      "source": [
        "!wget https://raw.githubusercontent.com/saitiku/nn_playground/master/binarynet/binary_layers.py\n",
        "!wget https://raw.githubusercontent.com/saitiku/nn_playground/master/binarynet/binary_ops.py\n",
        "# you should see two new files -- binary_layers.py and binary_ops.py\n",
        "!ls"
      ],
      "execution_count": 88,
      "outputs": [
        {
          "output_type": "stream",
          "text": [
            "--2019-11-02 04:40:03--  https://raw.githubusercontent.com/saitiku/nn_playground/master/binarynet/binary_layers.py\n",
            "Resolving raw.githubusercontent.com (raw.githubusercontent.com)... 151.101.0.133, 151.101.64.133, 151.101.128.133, ...\n",
            "Connecting to raw.githubusercontent.com (raw.githubusercontent.com)|151.101.0.133|:443... connected.\n",
            "HTTP request sent, awaiting response... 200 OK\n",
            "Length: 7584 (7.4K) [text/plain]\n",
            "Saving to: ‘binary_layers.py.4’\n",
            "\n",
            "\rbinary_layers.py.4    0%[                    ]       0  --.-KB/s               \rbinary_layers.py.4  100%[===================>]   7.41K  --.-KB/s    in 0s      \n",
            "\n",
            "2019-11-02 04:40:03 (103 MB/s) - ‘binary_layers.py.4’ saved [7584/7584]\n",
            "\n",
            "--2019-11-02 04:40:04--  https://raw.githubusercontent.com/saitiku/nn_playground/master/binarynet/binary_ops.py\n",
            "Resolving raw.githubusercontent.com (raw.githubusercontent.com)... 151.101.0.133, 151.101.64.133, 151.101.128.133, ...\n",
            "Connecting to raw.githubusercontent.com (raw.githubusercontent.com)|151.101.0.133|:443... connected.\n",
            "HTTP request sent, awaiting response... 200 OK\n",
            "Length: 2180 (2.1K) [text/plain]\n",
            "Saving to: ‘binary_ops.py.4’\n",
            "\n",
            "binary_ops.py.4     100%[===================>]   2.13K  --.-KB/s    in 0s      \n",
            "\n",
            "2019-11-02 04:40:04 (41.8 MB/s) - ‘binary_ops.py.4’ saved [2180/2180]\n",
            "\n",
            "binary_layers.py    binary_ops.py    mnist_cnn_model_binary.yaml\n",
            "binary_layers.py.1  binary_ops.py.1  mnist_cnn_model.yaml\n",
            "binary_layers.py.2  binary_ops.py.2  mnist_digits_binary.h5\n",
            "binary_layers.py.3  binary_ops.py.3  __pycache__\n",
            "binary_layers.py.4  binary_ops.py.4  sample_data\n"
          ],
          "name": "stdout"
        }
      ]
    },
    {
      "cell_type": "code",
      "metadata": {
        "colab_type": "code",
        "id": "lzc6H1emF1-x",
        "colab": {}
      },
      "source": [
        "import matplotlib.pyplot as plt\n",
        "from IPython.display import clear_output\n",
        "import keras\n",
        "from sklearn.model_selection import train_test_split as train_valid_split\n",
        "import numpy as np\n",
        "from keras.models import load_model\n",
        "from binary_layers import BinaryConv2D, BinaryDense\n",
        "# plt.style.use('dark_background') # incase you are using jupyter dark theme, comment otherwise\n",
        "np.random.seed(1)"
      ],
      "execution_count": 0,
      "outputs": []
    },
    {
      "cell_type": "code",
      "metadata": {
        "colab_type": "code",
        "id": "e2B7u4UUF1-0",
        "colab": {}
      },
      "source": [
        "# usefull classes\n",
        "class PlotLearning(keras.callbacks.Callback):\n",
        "    \"\"\"\n",
        "    Inherits the Callback class\n",
        "    A class inheriting Callback is expected to have the methods on_train_begin and,\n",
        "    on_epoch_end. These methods are called in the backend.\n",
        "    \"\"\"\n",
        "    def on_train_begin(self, logs={}):\n",
        "        self.i = 0\n",
        "        self.x = []\n",
        "        self.losses = []\n",
        "        self.val_losses = []\n",
        "        self.acc = []\n",
        "        self.val_acc = []\n",
        "        self.fig = plt.figure()\n",
        "\n",
        "        self.logs = []\n",
        "\n",
        "    def on_epoch_end(self, epoch, logs={}):\n",
        "        \n",
        "        self.logs.append(logs)\n",
        "        self.x.append(self.i)\n",
        "        \n",
        "        self.losses.append(logs.get('loss'))\n",
        "        self.val_losses.append(logs.get('val_loss'))\n",
        "        self.acc.append(logs.get('acc'))\n",
        "        self.val_acc.append(logs.get('val_acc'))\n",
        "        self.i += 1\n",
        "        f, (ax1, ax2) = plt.subplots(1, 2 , figsize=(16, 8))\n",
        "        \n",
        "        clear_output(wait=True)\n",
        "        \n",
        "        # loss plot\n",
        "        ax1.plot(self.x, self.losses, label=\"loss\")\n",
        "        ax1.plot(self.x, self.val_losses, label=\"val_loss\")\n",
        "        ax1.set_xlabel(\"epochs\")\n",
        "        ax1.set_ylabel(\"loss\")\n",
        "        ax1.legend()\n",
        "        \n",
        "        ax2.plot(self.x, self.acc, label=\"acc\")\n",
        "        ax2.plot(self.x, self.val_acc, label=\"val_acc\")\n",
        "        ax1.set_xlabel(\"epochs\")\n",
        "        ax1.set_ylabel(\"loss\")\n",
        "        ax2.legend()\n",
        "        \n",
        "        plt.show()\n",
        "        \n",
        "        \n",
        "class CustomEarlyStop(keras.callbacks.Callback):\n",
        "    \"\"\"\n",
        "    Inherits the Callback class\n",
        "    A class inheriting Callback is expected to have the methods on_train_begin and,\n",
        "    on_epoch_end. These methods are called in the backend.\n",
        "    \"\"\"\n",
        "    def __init__(self, monitor='val_acc', value=0.9900):\n",
        "        self.monitor = monitor\n",
        "        self.value = value\n",
        "\n",
        "    def on_epoch_end(self, epoch, logs={}):\n",
        "        \n",
        "        curr_value = logs.get(self.monitor)\n",
        "        \n",
        "        if curr_value >= self.value:\n",
        "            print(f\"Congratulations! You reached the target {self.monitor} of {self.value}\")\n",
        "            self.model.stop_training = True"
      ],
      "execution_count": 0,
      "outputs": []
    },
    {
      "cell_type": "code",
      "metadata": {
        "colab_type": "code",
        "id": "ntlNYi50F1-3",
        "colab": {}
      },
      "source": [
        "# load the dataset\n",
        "mnist = keras.datasets.mnist\n",
        "(x_train, y_train), (x_test, y_test) = mnist.load_data()\n",
        "\n",
        "x_train, x_valid, y_train, y_valid  = train_valid_split(x_train, y_train, \n",
        "                                                        train_size=0.9, shuffle=True, \n",
        "                                                        random_state=42)"
      ],
      "execution_count": 0,
      "outputs": []
    },
    {
      "cell_type": "code",
      "metadata": {
        "colab_type": "code",
        "id": "HcoVoHsWF1-6",
        "outputId": "b1fc2ca7-4ec6-45e1-fc28-ccc881d86334",
        "colab": {
          "base_uri": "https://localhost:8080/",
          "height": 282
        }
      },
      "source": [
        "# show a random image from the training set\n",
        "plt.imshow(x_train[np.random.randint(0, x_train.shape[0]), :, :], cmap=\"gray_r\")"
      ],
      "execution_count": 92,
      "outputs": [
        {
          "output_type": "execute_result",
          "data": {
            "text/plain": [
              "<matplotlib.image.AxesImage at 0x7fb40004cd68>"
            ]
          },
          "metadata": {
            "tags": []
          },
          "execution_count": 92
        },
        {
          "output_type": "display_data",
          "data": {
            "image/png": "[encoded data removed]",
            "text/plain": [
              "<Figure size 432x288 with 1 Axes>"
            ]
          },
          "metadata": {
            "tags": []
          }
        }
      ]
    },
    {
      "cell_type": "code",
      "metadata": {
        "colab_type": "code",
        "id": "ByXubw8YF1--",
        "colab": {}
      },
      "source": [
        "# normalize the data\n",
        "x_train, x_test, x_valid = x_train/255.0, x_test/255.0, x_valid/255.0"
      ],
      "execution_count": 0,
      "outputs": []
    },
    {
      "cell_type": "code",
      "metadata": {
        "colab_type": "code",
        "id": "eAMvSwIEF1_B",
        "colab": {}
      },
      "source": [
        "def compile_model(m):\n",
        "    \"\"\"\n",
        "    compile model with specific optimizer and loss funtion\n",
        "    m: model object\n",
        "    \"\"\"\n",
        "    m.compile(\n",
        "        optimizer=keras.optimizers.Adam(lr=0.001),\n",
        "        loss='categorical_crossentropy', # expects targets to be hot-encoded\n",
        "        metrics=['accuracy']\n",
        "    )\n",
        "    return m"
      ],
      "execution_count": 0,
      "outputs": []
    },
    {
      "cell_type": "code",
      "metadata": {
        "colab_type": "code",
        "id": "6hL-wLC2F1_L",
        "colab": {}
      },
      "source": [
        "def generate_model_binary():\n",
        "    \"\"\"\n",
        "    returns: a model object described below\n",
        "    \"\"\"\n",
        "    return keras.models.Sequential([\n",
        "        \n",
        "        keras.layers.Reshape(target_shape=(28, 28, 1)),\n",
        "        \n",
        "        # TODO:\n",
        "        keras.layers.Conv2D(kernel_size=3, filters=12,activation='relu', padding='valid'),\n",
        "        keras.layers.Dropout(.25),\n",
        "        \n",
        "         \n",
        "        keras.layers.Conv2D(kernel_size=3, filters=24, activation='relu', padding='valid',strides=2),\n",
        "        #BinaryConv2D(kernel_size=3, filters=24,use_bias=False, padding='valid',strides=2,activation='relu'),\n",
        "        keras.layers.Dropout(.25),\n",
        "        #keras.layers.Activation('relu'),\n",
        "        \n",
        "        \n",
        "      \n",
        "        \n",
        "        #keras.layers.Conv2D(kernel_size=3, filters=32, activation='relu', padding='valid',strides=2),\n",
        "        BinaryConv2D(kernel_size=3, filters=32,use_bias=False, padding='valid',strides=2, activation='relu'),\n",
        "        keras.layers.Dropout(.25),\n",
        "        #keras.layers.Activation('relu'),\n",
        "        \n",
        "        \n",
        "        \n",
        "        keras.layers.Flatten(),\n",
        "        \n",
        "        \n",
        "        \n",
        "        #keras.layers.Dense(200,activation='relu'),\n",
        "        BinaryDense(200,use_bias=False, activation='relu'),\n",
        "        #keras.layers.Activation('relu'),\n",
        "        keras.layers.Dense(10, activation='softmax')\n",
        "    ])\n",
        "  \n"
      ],
      "execution_count": 0,
      "outputs": []
    },
    {
      "cell_type": "code",
      "metadata": {
        "colab_type": "code",
        "id": "sjOEh-0DF1_N",
        "colab": {}
      },
      "source": [
        "keras.backend.clear_session() # do this everytime before creating a new model\n",
        "model = generate_model_binary()\n",
        "model = compile_model(model)\n",
        "\n"
      ],
      "execution_count": 0,
      "outputs": []
    },
    {
      "cell_type": "code",
      "metadata": {
        "id": "8C6hsRspgoDK",
        "colab_type": "code",
        "colab": {
          "base_uri": "https://localhost:8080/",
          "height": 34
        },
        "outputId": "91e2f8e6-fe8c-4282-ba72-81aacd844108"
      },
      "source": [
        "# write the YAML config of the above model to a file\n",
        "open('mnist_cnn_model.yaml', 'w').write(model.to_yaml())\n",
        "#print(model.to_yaml())"
      ],
      "execution_count": 97,
      "outputs": [
        {
          "output_type": "execute_result",
          "data": {
            "text/plain": [
              "4068"
            ]
          },
          "metadata": {
            "tags": []
          },
          "execution_count": 97
        }
      ]
    },
    {
      "cell_type": "code",
      "metadata": {
        "colab_type": "code",
        "id": "dc0pD9phF1_S",
        "outputId": "6b8c007c-e16c-495b-f23f-dc2d7242577e",
        "scrolled": false,
        "colab": {
          "base_uri": "https://localhost:8080/",
          "height": 514
        }
      },
      "source": [
        "hist = model.fit(\n",
        "    x_train, keras.utils.to_categorical(y_train),\n",
        "    validation_data=(x_valid, keras.utils.to_categorical(y_valid)),\n",
        "    epochs=200,\n",
        "    verbose=1,\n",
        "    batch_size=128,\n",
        "    callbacks=[PlotLearning(), CustomEarlyStop()]\n",
        ")"
      ],
      "execution_count": 98,
      "outputs": [
        {
          "output_type": "display_data",
          "data": {
            "image/png": "[encoded data removed]",
            "text/plain": [
              "<Figure size 1152x576 with 2 Axes>"
            ]
          },
          "metadata": {
            "tags": []
          }
        },
        {
          "output_type": "stream",
          "text": [
            "Congratulations! You reached the target val_acc of 0.99\n"
          ],
          "name": "stdout"
        }
      ]
    },
    {
      "cell_type": "code",
      "metadata": {
        "id": "RMAPvyTuaUaO",
        "colab_type": "code",
        "colab": {
          "base_uri": "https://localhost:8080/",
          "height": 493
        },
        "outputId": "21e20c53-d731-44f9-e599-51681d73cd25"
      },
      "source": [
        "model.build(input_shape=(None,28,28,1))\n",
        "model.summary()"
      ],
      "execution_count": 99,
      "outputs": [
        {
          "output_type": "stream",
          "text": [
            "Model: \"sequential_1\"\n",
            "_________________________________________________________________\n",
            "Layer (type)                 Output Shape              Param #   \n",
            "=================================================================\n",
            "reshape_1 (Reshape)          (None, 28, 28, 1)         0         \n",
            "_________________________________________________________________\n",
            "conv2d_1 (Conv2D)            (None, 26, 26, 12)        120       \n",
            "_________________________________________________________________\n",
            "dropout_1 (Dropout)          (None, 26, 26, 12)        0         \n",
            "_________________________________________________________________\n",
            "conv2d_2 (Conv2D)            (None, 12, 12, 24)        2616      \n",
            "_________________________________________________________________\n",
            "dropout_2 (Dropout)          (None, 12, 12, 24)        0         \n",
            "_________________________________________________________________\n",
            "binary_conv2d_1 (BinaryConv2 (None, 5, 5, 32)          6912      \n",
            "_________________________________________________________________\n",
            "dropout_3 (Dropout)          (None, 5, 5, 32)          0         \n",
            "_________________________________________________________________\n",
            "flatten_1 (Flatten)          (None, 800)               0         \n",
            "_________________________________________________________________\n",
            "binary_dense_2 (BinaryDense) (None, 200)               160000    \n",
            "_________________________________________________________________\n",
            "dense_1 (Dense)              (None, 10)                2010      \n",
            "=================================================================\n",
            "Total params: 171,658\n",
            "Trainable params: 171,658\n",
            "Non-trainable params: 0\n",
            "_________________________________________________________________\n"
          ],
          "name": "stdout"
        }
      ]
    },
    {
      "cell_type": "code",
      "metadata": {
        "colab_type": "code",
        "id": "A82K8bm-F1_U",
        "colab": {}
      },
      "source": [
        "# save model\n",
        "model.save('mnist_digits_binary.h5')"
      ],
      "execution_count": 0,
      "outputs": []
    },
    {
      "cell_type": "code",
      "metadata": {
        "colab_type": "code",
        "id": "b2RITwV-F1_W",
        "scrolled": false,
        "colab": {
          "base_uri": "https://localhost:8080/",
          "height": 34
        },
        "outputId": "9576984c-97dd-462f-903f-b72be892995b"
      },
      "source": [
        "# evaluate model\n",
        "# model = load_model('mnist-cnn-base.h5')\n",
        "metrics = model.evaluate(x_test, keras.utils.to_categorical(y_test), verbose=0)\n",
        "print(f'loss: {metrics[0]:.2f}, accuracy: {metrics[1] * 100:.2f}')"
      ],
      "execution_count": 101,
      "outputs": [
        {
          "output_type": "stream",
          "text": [
            "loss: 0.03, accuracy: 98.92\n"
          ],
          "name": "stdout"
        }
      ]
    },
    {
      "cell_type": "code",
      "metadata": {
        "colab_type": "code",
        "id": "8CHhMpB4F1_Y",
        "colab": {
          "base_uri": "https://localhost:8080/",
          "height": 34
        },
        "outputId": "e36bdbb8-cea4-47fd-b58d-5b9901821338"
      },
      "source": [
        "open('mnist_cnn_model_binary.yaml', 'w').write(model.to_yaml())"
      ],
      "execution_count": 102,
      "outputs": [
        {
          "output_type": "execute_result",
          "data": {
            "text/plain": [
              "4524"
            ]
          },
          "metadata": {
            "tags": []
          },
          "execution_count": 102
        }
      ]
    },
    {
      "cell_type": "code",
      "metadata": {
        "colab_type": "code",
        "id": "4BW40HKMGGxw",
        "colab": {}
      },
      "source": [
        "# use this block of code to download h5 and tflite and tflite quant files from google colab to your local machine\n",
        "# NOTE: YOU WILL NEED TO USE GOOGLE CHROME TO USE THIS FEATURE\n",
        "# YOU WILL NEED TO ENABLE 3RD PARTY COOKIES FROM GOOGLE COLAB\n",
        "# HERE ARE THE INSTRUCTIONS FOR THAT: https://stackoverflow.com/questions/53581023/google-colab-file-download-failed-to-fetch-error\n",
        "# YOU NEED TO CLOSE THIS BROWSER AND REOPEN FOR THE CHANGE TO TAKE EFFECT\n",
        "# YOU MAY NEED TO RUN THIS CELL TWICE TO TAKE EFFECT\n",
        "from google.colab import files\n",
        "files.download('mnist_cnn_model_binary.yaml') #  "
      ],
      "execution_count": 0,
      "outputs": []
    },
    {
      "cell_type": "code",
      "metadata": {
        "colab_type": "code",
        "id": "EvM2co5lzwzC",
        "colab": {}
      },
      "source": [
        "# YOU MAY NEED TO RUN THIS CELL TWICE TO TAKE EFFECT\n",
        "files.download('mnist_digits_binary.h5')"
      ],
      "execution_count": 0,
      "outputs": []
    },
    {
      "cell_type": "code",
      "metadata": {
        "colab_type": "code",
        "id": "3MTVAEGm3s8e",
        "colab": {}
      },
      "source": [
        ""
      ],
      "execution_count": 0,
      "outputs": []
    }
  ]
}